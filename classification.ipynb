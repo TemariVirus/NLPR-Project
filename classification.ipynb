{
    "cells": [
        {
            "cell_type": "markdown",
            "metadata": {
                "id": "hdTGzKa6c9Ax"
            },
            "source": ["## Install modules\n"]
        },
        {
            "cell_type": "code",
            "execution_count": null,
            "metadata": {
                "colab": {
                    "base_uri": "https://localhost:8080/"
                },
                "id": "1q2BtfUzc9Az",
                "outputId": "3036b440-f6f3-4557-8911-8f83ca48a10a"
            },
            "outputs": [],
            "source": [
                "%pip install --upgrade pip\n",
                "# %pip install fasttext\n",
                "# %pip install imblearn\n",
                "%pip install kaggle\n",
                "# %pip install matplotlib\n",
                "# %pip install numpy\n",
                "# %pip install pandas\n",
                "# %pip install scikit-learn\n",
                "# %pip install seaborn\n",
                "%pip install \"tensorflow[and-cuda]==2.15.*\"\n",
                "%pip install --upgrade keras-nlp\n",
                "%pip install \"keras==2.15.*\""
            ]
        },
        {
            "cell_type": "markdown",
            "metadata": {
                "id": "4y6Rzj37pYw1"
            },
            "source": ["## Set up kaggle and download dataset\n"]
        },
        {
            "cell_type": "code",
            "execution_count": null,
            "metadata": {
                "id": "DwSkdsY5pQZs",
                "colab": {
                    "base_uri": "https://localhost:8080/",
                    "height": 90
                },
                "outputId": "5d567326-579b-47ad-84e0-1b3debacc79c"
            },
            "outputs": [],
            "source": [
                "# Upload kaggle.json\n",
                "from google.colab import files\n",
                "\n",
                "files.upload()"
            ]
        },
        {
            "cell_type": "code",
            "execution_count": null,
            "metadata": {
                "id": "JSu9pxgUo95k"
            },
            "outputs": [],
            "source": [
                "!mkdir -p ~/.kaggle\n",
                "!cp kaggle.json ~/.kaggle/\n",
                "!chmod 600 ~/.kaggle/kaggle.json"
            ]
        },
        {
            "cell_type": "code",
            "execution_count": null,
            "metadata": {
                "colab": {
                    "base_uri": "https://localhost:8080/"
                },
                "id": "iTOxNGU3qAjF",
                "outputId": "ebb1f229-d018-4a42-a188-2ffaaea2709f"
            },
            "outputs": [],
            "source": [
                "!kaggle datasets download -d rajgupta2019/druggie\n",
                "!unzip druggie.zip\n",
                "!mkdir ./data\n",
                "!mv train.csv data/train.csv"
            ]
        },
        {
            "cell_type": "markdown",
            "metadata": {
                "id": "yQoqpyShc9A1"
            },
            "source": ["## EDA and Data Cleaning\n"]
        },
        {
            "cell_type": "code",
            "execution_count": 1,
            "metadata": {
                "colab": {
                    "base_uri": "https://localhost:8080/"
                },
                "id": "iVeVasTLc9A1",
                "outputId": "5e02c959-e7ff-4693-d195-8ec3f21bfc49"
            },
            "outputs": [
                {
                    "output_type": "stream",
                    "name": "stdout",
                    "text": [
                        "<class 'pandas.core.frame.DataFrame'>\n",
                        "RangeIndex: 32165 entries, 0 to 32164\n",
                        "Data columns (total 8 columns):\n",
                        " #   Column                      Non-Null Count  Dtype  \n",
                        "---  ------                      --------------  -----  \n",
                        " 0   patient_id                  32165 non-null  int64  \n",
                        " 1   name_of_drug                32165 non-null  object \n",
                        " 2   use_case_for_drug           32165 non-null  object \n",
                        " 3   review_by_patient           32165 non-null  object \n",
                        " 4   effectiveness_rating        32165 non-null  int64  \n",
                        " 5   drug_approved_by_UIC        32165 non-null  object \n",
                        " 6   number_of_times_prescribed  32165 non-null  int64  \n",
                        " 7   base_score                  32165 non-null  float64\n",
                        "dtypes: float64(1), int64(3), object(4)\n",
                        "memory usage: 2.0+ MB\n"
                    ]
                }
            ],
            "source": [
                "import pandas as pd\n",
                "\n",
                "# Data taken from: https://www.kaggle.com/datasets/rajgupta2019/druggie\n",
                "df = pd.read_csv(\"data/train.csv\")\n",
                "df.info()"
            ]
        },
        {
            "cell_type": "code",
            "execution_count": 2,
            "metadata": {
                "colab": {
                    "base_uri": "https://localhost:8080/",
                    "height": 0
                },
                "id": "WmmgZ7OTc9A1",
                "outputId": "47645d45-ab70-4652-ea4b-bcf8eda0f90b"
            },
            "outputs": [
                {
                    "output_type": "execute_result",
                    "data": {
                        "text/plain": [
                            "   patient_id                        name_of_drug  \\\n",
                            "0      206461                           Valsartan   \n",
                            "1       95260                          Guanfacine   \n",
                            "2       92703                              Lybrel   \n",
                            "3       35696            Buprenorphine / naloxone   \n",
                            "4      155963                              Cialis   \n",
                            "5       48928  Ethinyl estradiol / levonorgestrel   \n",
                            "6       75612                      L-methylfolate   \n",
                            "7      219869                       Amitriptyline   \n",
                            "8      212077                         Lamotrigine   \n",
                            "9       12372                             Atripla   \n",
                            "\n",
                            "              use_case_for_drug  \\\n",
                            "0  Left Ventricular Dysfunction   \n",
                            "1                          ADHD   \n",
                            "2                 Birth Control   \n",
                            "3             Opiate Dependence   \n",
                            "4  Benign Prostatic Hyperplasia   \n",
                            "5                 Birth Control   \n",
                            "6                    Depression   \n",
                            "7                   ibromyalgia   \n",
                            "8               Bipolar Disorde   \n",
                            "9                 HIV Infection   \n",
                            "\n",
                            "                                   review_by_patient  effectiveness_rating  \\\n",
                            "0  \"It has no side effect, I take it in combinati...                     9   \n",
                            "1  \"My son is halfway through his fourth week of ...                     8   \n",
                            "2  \"I used to take another oral contraceptive, wh...                     5   \n",
                            "3  \"Suboxone has completely turned my life around...                     9   \n",
                            "4  \"2nd day on 5mg started to work with rock hard...                     2   \n",
                            "5  \"I had been on the pill for many years. When m...                     8   \n",
                            "6  \"I have taken anti-depressants for years, with...                    10   \n",
                            "7  \"I&#039;ve been taking amitriptyline since Jan...                     9   \n",
                            "8  \"I&#039;ve been on every medicine under the su...                    10   \n",
                            "9  \"Spring of 2008 I was hospitalized with pnuemo...                     8   \n",
                            "\n",
                            "  drug_approved_by_UIC  number_of_times_prescribed  base_score  \n",
                            "0            20-May-12                          27    8.022969  \n",
                            "1            27-Apr-10                         192    7.858458  \n",
                            "2            14-Dec-09                          17    6.341969  \n",
                            "3            27-Nov-16                          37    6.590176  \n",
                            "4            28-Nov-15                          43    6.144782  \n",
                            "5             8-Dec-16                           1    5.691792  \n",
                            "6             9-Mar-17                          54    8.563274  \n",
                            "7            15-Mar-17                          39    7.301039  \n",
                            "8             9-Nov-14                          18    6.633970  \n",
                            "9             9-Jul-10                          11    6.562116  "
                        ],
                        "text/html": [
                            "\n",
                            "  <div id=\"df-529194d6-a0fd-4ef0-9418-bc8efc43712a\" class=\"colab-df-container\">\n",
                            "    <div>\n",
                            "<style scoped>\n",
                            "    .dataframe tbody tr th:only-of-type {\n",
                            "        vertical-align: middle;\n",
                            "    }\n",
                            "\n",
                            "    .dataframe tbody tr th {\n",
                            "        vertical-align: top;\n",
                            "    }\n",
                            "\n",
                            "    .dataframe thead th {\n",
                            "        text-align: right;\n",
                            "    }\n",
                            "</style>\n",
                            "<table border=\"1\" class=\"dataframe\">\n",
                            "  <thead>\n",
                            "    <tr style=\"text-align: right;\">\n",
                            "      <th></th>\n",
                            "      <th>patient_id</th>\n",
                            "      <th>name_of_drug</th>\n",
                            "      <th>use_case_for_drug</th>\n",
                            "      <th>review_by_patient</th>\n",
                            "      <th>effectiveness_rating</th>\n",
                            "      <th>drug_approved_by_UIC</th>\n",
                            "      <th>number_of_times_prescribed</th>\n",
                            "      <th>base_score</th>\n",
                            "    </tr>\n",
                            "  </thead>\n",
                            "  <tbody>\n",
                            "    <tr>\n",
                            "      <th>0</th>\n",
                            "      <td>206461</td>\n",
                            "      <td>Valsartan</td>\n",
                            "      <td>Left Ventricular Dysfunction</td>\n",
                            "      <td>\"It has no side effect, I take it in combinati...</td>\n",
                            "      <td>9</td>\n",
                            "      <td>20-May-12</td>\n",
                            "      <td>27</td>\n",
                            "      <td>8.022969</td>\n",
                            "    </tr>\n",
                            "    <tr>\n",
                            "      <th>1</th>\n",
                            "      <td>95260</td>\n",
                            "      <td>Guanfacine</td>\n",
                            "      <td>ADHD</td>\n",
                            "      <td>\"My son is halfway through his fourth week of ...</td>\n",
                            "      <td>8</td>\n",
                            "      <td>27-Apr-10</td>\n",
                            "      <td>192</td>\n",
                            "      <td>7.858458</td>\n",
                            "    </tr>\n",
                            "    <tr>\n",
                            "      <th>2</th>\n",
                            "      <td>92703</td>\n",
                            "      <td>Lybrel</td>\n",
                            "      <td>Birth Control</td>\n",
                            "      <td>\"I used to take another oral contraceptive, wh...</td>\n",
                            "      <td>5</td>\n",
                            "      <td>14-Dec-09</td>\n",
                            "      <td>17</td>\n",
                            "      <td>6.341969</td>\n",
                            "    </tr>\n",
                            "    <tr>\n",
                            "      <th>3</th>\n",
                            "      <td>35696</td>\n",
                            "      <td>Buprenorphine / naloxone</td>\n",
                            "      <td>Opiate Dependence</td>\n",
                            "      <td>\"Suboxone has completely turned my life around...</td>\n",
                            "      <td>9</td>\n",
                            "      <td>27-Nov-16</td>\n",
                            "      <td>37</td>\n",
                            "      <td>6.590176</td>\n",
                            "    </tr>\n",
                            "    <tr>\n",
                            "      <th>4</th>\n",
                            "      <td>155963</td>\n",
                            "      <td>Cialis</td>\n",
                            "      <td>Benign Prostatic Hyperplasia</td>\n",
                            "      <td>\"2nd day on 5mg started to work with rock hard...</td>\n",
                            "      <td>2</td>\n",
                            "      <td>28-Nov-15</td>\n",
                            "      <td>43</td>\n",
                            "      <td>6.144782</td>\n",
                            "    </tr>\n",
                            "    <tr>\n",
                            "      <th>5</th>\n",
                            "      <td>48928</td>\n",
                            "      <td>Ethinyl estradiol / levonorgestrel</td>\n",
                            "      <td>Birth Control</td>\n",
                            "      <td>\"I had been on the pill for many years. When m...</td>\n",
                            "      <td>8</td>\n",
                            "      <td>8-Dec-16</td>\n",
                            "      <td>1</td>\n",
                            "      <td>5.691792</td>\n",
                            "    </tr>\n",
                            "    <tr>\n",
                            "      <th>6</th>\n",
                            "      <td>75612</td>\n",
                            "      <td>L-methylfolate</td>\n",
                            "      <td>Depression</td>\n",
                            "      <td>\"I have taken anti-depressants for years, with...</td>\n",
                            "      <td>10</td>\n",
                            "      <td>9-Mar-17</td>\n",
                            "      <td>54</td>\n",
                            "      <td>8.563274</td>\n",
                            "    </tr>\n",
                            "    <tr>\n",
                            "      <th>7</th>\n",
                            "      <td>219869</td>\n",
                            "      <td>Amitriptyline</td>\n",
                            "      <td>ibromyalgia</td>\n",
                            "      <td>\"I&amp;#039;ve been taking amitriptyline since Jan...</td>\n",
                            "      <td>9</td>\n",
                            "      <td>15-Mar-17</td>\n",
                            "      <td>39</td>\n",
                            "      <td>7.301039</td>\n",
                            "    </tr>\n",
                            "    <tr>\n",
                            "      <th>8</th>\n",
                            "      <td>212077</td>\n",
                            "      <td>Lamotrigine</td>\n",
                            "      <td>Bipolar Disorde</td>\n",
                            "      <td>\"I&amp;#039;ve been on every medicine under the su...</td>\n",
                            "      <td>10</td>\n",
                            "      <td>9-Nov-14</td>\n",
                            "      <td>18</td>\n",
                            "      <td>6.633970</td>\n",
                            "    </tr>\n",
                            "    <tr>\n",
                            "      <th>9</th>\n",
                            "      <td>12372</td>\n",
                            "      <td>Atripla</td>\n",
                            "      <td>HIV Infection</td>\n",
                            "      <td>\"Spring of 2008 I was hospitalized with pnuemo...</td>\n",
                            "      <td>8</td>\n",
                            "      <td>9-Jul-10</td>\n",
                            "      <td>11</td>\n",
                            "      <td>6.562116</td>\n",
                            "    </tr>\n",
                            "  </tbody>\n",
                            "</table>\n",
                            "</div>\n",
                            "    <div class=\"colab-df-buttons\">\n",
                            "\n",
                            "  <div class=\"colab-df-container\">\n",
                            "    <button class=\"colab-df-convert\" onclick=\"convertToInteractive('df-529194d6-a0fd-4ef0-9418-bc8efc43712a')\"\n",
                            "            title=\"Convert this dataframe to an interactive table.\"\n",
                            "            style=\"display:none;\">\n",
                            "\n",
                            "  <svg xmlns=\"http://www.w3.org/2000/svg\" height=\"24px\" viewBox=\"0 -960 960 960\">\n",
                            "    <path d=\"M120-120v-720h720v720H120Zm60-500h600v-160H180v160Zm220 220h160v-160H400v160Zm0 220h160v-160H400v160ZM180-400h160v-160H180v160Zm440 0h160v-160H620v160ZM180-180h160v-160H180v160Zm440 0h160v-160H620v160Z\"/>\n",
                            "  </svg>\n",
                            "    </button>\n",
                            "\n",
                            "  <style>\n",
                            "    .colab-df-container {\n",
                            "      display:flex;\n",
                            "      gap: 12px;\n",
                            "    }\n",
                            "\n",
                            "    .colab-df-convert {\n",
                            "      background-color: #E8F0FE;\n",
                            "      border: none;\n",
                            "      border-radius: 50%;\n",
                            "      cursor: pointer;\n",
                            "      display: none;\n",
                            "      fill: #1967D2;\n",
                            "      height: 32px;\n",
                            "      padding: 0 0 0 0;\n",
                            "      width: 32px;\n",
                            "    }\n",
                            "\n",
                            "    .colab-df-convert:hover {\n",
                            "      background-color: #E2EBFA;\n",
                            "      box-shadow: 0px 1px 2px rgba(60, 64, 67, 0.3), 0px 1px 3px 1px rgba(60, 64, 67, 0.15);\n",
                            "      fill: #174EA6;\n",
                            "    }\n",
                            "\n",
                            "    .colab-df-buttons div {\n",
                            "      margin-bottom: 4px;\n",
                            "    }\n",
                            "\n",
                            "    [theme=dark] .colab-df-convert {\n",
                            "      background-color: #3B4455;\n",
                            "      fill: #D2E3FC;\n",
                            "    }\n",
                            "\n",
                            "    [theme=dark] .colab-df-convert:hover {\n",
                            "      background-color: #434B5C;\n",
                            "      box-shadow: 0px 1px 3px 1px rgba(0, 0, 0, 0.15);\n",
                            "      filter: drop-shadow(0px 1px 2px rgba(0, 0, 0, 0.3));\n",
                            "      fill: #FFFFFF;\n",
                            "    }\n",
                            "  </style>\n",
                            "\n",
                            "    <script>\n",
                            "      const buttonEl =\n",
                            "        document.querySelector('#df-529194d6-a0fd-4ef0-9418-bc8efc43712a button.colab-df-convert');\n",
                            "      buttonEl.style.display =\n",
                            "        google.colab.kernel.accessAllowed ? 'block' : 'none';\n",
                            "\n",
                            "      async function convertToInteractive(key) {\n",
                            "        const element = document.querySelector('#df-529194d6-a0fd-4ef0-9418-bc8efc43712a');\n",
                            "        const dataTable =\n",
                            "          await google.colab.kernel.invokeFunction('convertToInteractive',\n",
                            "                                                    [key], {});\n",
                            "        if (!dataTable) return;\n",
                            "\n",
                            "        const docLinkHtml = 'Like what you see? Visit the ' +\n",
                            "          '<a target=\"_blank\" href=https://colab.research.google.com/notebooks/data_table.ipynb>data table notebook</a>'\n",
                            "          + ' to learn more about interactive tables.';\n",
                            "        element.innerHTML = '';\n",
                            "        dataTable['output_type'] = 'display_data';\n",
                            "        await google.colab.output.renderOutput(dataTable, element);\n",
                            "        const docLink = document.createElement('div');\n",
                            "        docLink.innerHTML = docLinkHtml;\n",
                            "        element.appendChild(docLink);\n",
                            "      }\n",
                            "    </script>\n",
                            "  </div>\n",
                            "\n",
                            "\n",
                            "<div id=\"df-ed48d3ff-82c0-4d74-b10b-8568d4af23f4\">\n",
                            "  <button class=\"colab-df-quickchart\" onclick=\"quickchart('df-ed48d3ff-82c0-4d74-b10b-8568d4af23f4')\"\n",
                            "            title=\"Suggest charts\"\n",
                            "            style=\"display:none;\">\n",
                            "\n",
                            "<svg xmlns=\"http://www.w3.org/2000/svg\" height=\"24px\"viewBox=\"0 0 24 24\"\n",
                            "     width=\"24px\">\n",
                            "    <g>\n",
                            "        <path d=\"M19 3H5c-1.1 0-2 .9-2 2v14c0 1.1.9 2 2 2h14c1.1 0 2-.9 2-2V5c0-1.1-.9-2-2-2zM9 17H7v-7h2v7zm4 0h-2V7h2v10zm4 0h-2v-4h2v4z\"/>\n",
                            "    </g>\n",
                            "</svg>\n",
                            "  </button>\n",
                            "\n",
                            "<style>\n",
                            "  .colab-df-quickchart {\n",
                            "      --bg-color: #E8F0FE;\n",
                            "      --fill-color: #1967D2;\n",
                            "      --hover-bg-color: #E2EBFA;\n",
                            "      --hover-fill-color: #174EA6;\n",
                            "      --disabled-fill-color: #AAA;\n",
                            "      --disabled-bg-color: #DDD;\n",
                            "  }\n",
                            "\n",
                            "  [theme=dark] .colab-df-quickchart {\n",
                            "      --bg-color: #3B4455;\n",
                            "      --fill-color: #D2E3FC;\n",
                            "      --hover-bg-color: #434B5C;\n",
                            "      --hover-fill-color: #FFFFFF;\n",
                            "      --disabled-bg-color: #3B4455;\n",
                            "      --disabled-fill-color: #666;\n",
                            "  }\n",
                            "\n",
                            "  .colab-df-quickchart {\n",
                            "    background-color: var(--bg-color);\n",
                            "    border: none;\n",
                            "    border-radius: 50%;\n",
                            "    cursor: pointer;\n",
                            "    display: none;\n",
                            "    fill: var(--fill-color);\n",
                            "    height: 32px;\n",
                            "    padding: 0;\n",
                            "    width: 32px;\n",
                            "  }\n",
                            "\n",
                            "  .colab-df-quickchart:hover {\n",
                            "    background-color: var(--hover-bg-color);\n",
                            "    box-shadow: 0 1px 2px rgba(60, 64, 67, 0.3), 0 1px 3px 1px rgba(60, 64, 67, 0.15);\n",
                            "    fill: var(--button-hover-fill-color);\n",
                            "  }\n",
                            "\n",
                            "  .colab-df-quickchart-complete:disabled,\n",
                            "  .colab-df-quickchart-complete:disabled:hover {\n",
                            "    background-color: var(--disabled-bg-color);\n",
                            "    fill: var(--disabled-fill-color);\n",
                            "    box-shadow: none;\n",
                            "  }\n",
                            "\n",
                            "  .colab-df-spinner {\n",
                            "    border: 2px solid var(--fill-color);\n",
                            "    border-color: transparent;\n",
                            "    border-bottom-color: var(--fill-color);\n",
                            "    animation:\n",
                            "      spin 1s steps(1) infinite;\n",
                            "  }\n",
                            "\n",
                            "  @keyframes spin {\n",
                            "    0% {\n",
                            "      border-color: transparent;\n",
                            "      border-bottom-color: var(--fill-color);\n",
                            "      border-left-color: var(--fill-color);\n",
                            "    }\n",
                            "    20% {\n",
                            "      border-color: transparent;\n",
                            "      border-left-color: var(--fill-color);\n",
                            "      border-top-color: var(--fill-color);\n",
                            "    }\n",
                            "    30% {\n",
                            "      border-color: transparent;\n",
                            "      border-left-color: var(--fill-color);\n",
                            "      border-top-color: var(--fill-color);\n",
                            "      border-right-color: var(--fill-color);\n",
                            "    }\n",
                            "    40% {\n",
                            "      border-color: transparent;\n",
                            "      border-right-color: var(--fill-color);\n",
                            "      border-top-color: var(--fill-color);\n",
                            "    }\n",
                            "    60% {\n",
                            "      border-color: transparent;\n",
                            "      border-right-color: var(--fill-color);\n",
                            "    }\n",
                            "    80% {\n",
                            "      border-color: transparent;\n",
                            "      border-right-color: var(--fill-color);\n",
                            "      border-bottom-color: var(--fill-color);\n",
                            "    }\n",
                            "    90% {\n",
                            "      border-color: transparent;\n",
                            "      border-bottom-color: var(--fill-color);\n",
                            "    }\n",
                            "  }\n",
                            "</style>\n",
                            "\n",
                            "  <script>\n",
                            "    async function quickchart(key) {\n",
                            "      const quickchartButtonEl =\n",
                            "        document.querySelector('#' + key + ' button');\n",
                            "      quickchartButtonEl.disabled = true;  // To prevent multiple clicks.\n",
                            "      quickchartButtonEl.classList.add('colab-df-spinner');\n",
                            "      try {\n",
                            "        const charts = await google.colab.kernel.invokeFunction(\n",
                            "            'suggestCharts', [key], {});\n",
                            "      } catch (error) {\n",
                            "        console.error('Error during call to suggestCharts:', error);\n",
                            "      }\n",
                            "      quickchartButtonEl.classList.remove('colab-df-spinner');\n",
                            "      quickchartButtonEl.classList.add('colab-df-quickchart-complete');\n",
                            "    }\n",
                            "    (() => {\n",
                            "      let quickchartButtonEl =\n",
                            "        document.querySelector('#df-ed48d3ff-82c0-4d74-b10b-8568d4af23f4 button');\n",
                            "      quickchartButtonEl.style.display =\n",
                            "        google.colab.kernel.accessAllowed ? 'block' : 'none';\n",
                            "    })();\n",
                            "  </script>\n",
                            "</div>\n",
                            "\n",
                            "    </div>\n",
                            "  </div>\n"
                        ]
                    },
                    "metadata": {},
                    "execution_count": 8
                }
            ],
            "source": ["# Check first few rows of data\n", "df.head(10)"]
        },
        {
            "cell_type": "code",
            "execution_count": 3,
            "metadata": {
                "colab": {
                    "base_uri": "https://localhost:8080/"
                },
                "id": "XZmWBBnwc9A1",
                "outputId": "10115ae5-ee92-4ec4-9564-79c9a4ec2769"
            },
            "outputs": [
                {
                    "output_type": "execute_result",
                    "data": {
                        "text/plain": [
                            "patient_id                    0\n",
                            "name_of_drug                  0\n",
                            "use_case_for_drug             0\n",
                            "review_by_patient             0\n",
                            "effectiveness_rating          0\n",
                            "drug_approved_by_UIC          0\n",
                            "number_of_times_prescribed    0\n",
                            "base_score                    0\n",
                            "dtype: int64"
                        ]
                    },
                    "metadata": {},
                    "execution_count": 9
                }
            ],
            "source": ["# Check for missing values\n", "df.isna().sum()"]
        },
        {
            "cell_type": "code",
            "execution_count": 4,
            "metadata": {
                "id": "J4HzoL1qc9A2"
            },
            "outputs": [],
            "source": [
                "# Create text column\n",
                "df[\"text\"] = (\n",
                "    \"Drug was used for \" + df[\"use_case_for_drug\"] + \". \" + df[\"review_by_patient\"]\n",
                ")\n",
                "# Bin effectiveness rating (1 for positive, 0 for negative)\n",
                "df[\"label\"] = df[\"effectiveness_rating\"].apply(lambda x: 1 if x > 6 else 0)\n",
                "\n",
                "df = df[[\"text\", \"label\"]]"
            ]
        },
        {
            "cell_type": "code",
            "execution_count": 5,
            "metadata": {
                "id": "ssEE4ER0c9A2"
            },
            "outputs": [],
            "source": [
                "import re\n",
                "\n",
                "# Remove numbers, special characters, and text in parentheses\n",
                "df[\"text\"] = df[\"text\"].map(lambda s: re.sub(r\"\\([^\\(\\)]*\\)|[^\\w ]|\\w*\\d+\\w*\", \" \", s))\n",
                "# Remove extra spaces\n",
                "df[\"text\"] = df[\"text\"].map(lambda s: re.sub(r\" +\", \" \", s))\n",
                "# Convert to lower case\n",
                "df[\"text\"] = df[\"text\"].map(lambda s: s.strip().lower())"
            ]
        },
        {
            "cell_type": "code",
            "execution_count": 6,
            "metadata": {
                "id": "39mREN72c9A3"
            },
            "outputs": [],
            "source": [
                "# Drop duplicates\n",
                "df = df.drop_duplicates(subset=[\"text\"])"
            ]
        },
        {
            "cell_type": "code",
            "execution_count": 7,
            "metadata": {
                "colab": {
                    "base_uri": "https://localhost:8080/"
                },
                "id": "6T2UQ3oMc9A3",
                "outputId": "c8cad0e4-778a-4206-eb50-95d128e7188e"
            },
            "outputs": [
                {
                    "output_type": "execute_result",
                    "data": {
                        "text/plain": [
                            "1    20012\n",
                            "0    10150\n",
                            "Name: label, dtype: int64"
                        ]
                    },
                    "metadata": {},
                    "execution_count": 13
                }
            ],
            "source": [
                "# Data is imbalanced, oversampling will be done later when the text is vectorised\n",
                "df[\"label\"].value_counts()"
            ]
        },
        {
            "cell_type": "code",
            "execution_count": 8,
            "metadata": {
                "colab": {
                    "base_uri": "https://localhost:8080/",
                    "height": 0
                },
                "id": "TgiF71Usc9A3",
                "outputId": "2eb41d53-9397-4a08-cf86-13679ed0fa57"
            },
            "outputs": [
                {
                    "output_type": "stream",
                    "name": "stdout",
                    "text": ["No. of rows: 30162\n"]
                },
                {
                    "output_type": "execute_result",
                    "data": {
                        "text/plain": [
                            "                                                text  label\n",
                            "0  drug was used for left ventricular dysfunction...      1\n",
                            "1  drug was used for adhd my son is halfway throu...      1\n",
                            "2  drug was used for birth control i used to take...      0\n",
                            "3  drug was used for opiate dependence suboxone h...      1\n",
                            "4  drug was used for benign prostatic hyperplasia...      0\n",
                            "5  drug was used for birth control i had been on ...      1\n",
                            "6  drug was used for depression i have taken anti...      1\n",
                            "7  drug was used for ibromyalgia i ve been taking...      1\n",
                            "8  drug was used for bipolar disorde i ve been on...      1\n",
                            "9  drug was used for hiv infection spring of i wa...      1"
                        ],
                        "text/html": [
                            "\n",
                            "  <div id=\"df-2abff88c-f263-4101-b212-298136d2bec8\" class=\"colab-df-container\">\n",
                            "    <div>\n",
                            "<style scoped>\n",
                            "    .dataframe tbody tr th:only-of-type {\n",
                            "        vertical-align: middle;\n",
                            "    }\n",
                            "\n",
                            "    .dataframe tbody tr th {\n",
                            "        vertical-align: top;\n",
                            "    }\n",
                            "\n",
                            "    .dataframe thead th {\n",
                            "        text-align: right;\n",
                            "    }\n",
                            "</style>\n",
                            "<table border=\"1\" class=\"dataframe\">\n",
                            "  <thead>\n",
                            "    <tr style=\"text-align: right;\">\n",
                            "      <th></th>\n",
                            "      <th>text</th>\n",
                            "      <th>label</th>\n",
                            "    </tr>\n",
                            "  </thead>\n",
                            "  <tbody>\n",
                            "    <tr>\n",
                            "      <th>0</th>\n",
                            "      <td>drug was used for left ventricular dysfunction...</td>\n",
                            "      <td>1</td>\n",
                            "    </tr>\n",
                            "    <tr>\n",
                            "      <th>1</th>\n",
                            "      <td>drug was used for adhd my son is halfway throu...</td>\n",
                            "      <td>1</td>\n",
                            "    </tr>\n",
                            "    <tr>\n",
                            "      <th>2</th>\n",
                            "      <td>drug was used for birth control i used to take...</td>\n",
                            "      <td>0</td>\n",
                            "    </tr>\n",
                            "    <tr>\n",
                            "      <th>3</th>\n",
                            "      <td>drug was used for opiate dependence suboxone h...</td>\n",
                            "      <td>1</td>\n",
                            "    </tr>\n",
                            "    <tr>\n",
                            "      <th>4</th>\n",
                            "      <td>drug was used for benign prostatic hyperplasia...</td>\n",
                            "      <td>0</td>\n",
                            "    </tr>\n",
                            "    <tr>\n",
                            "      <th>5</th>\n",
                            "      <td>drug was used for birth control i had been on ...</td>\n",
                            "      <td>1</td>\n",
                            "    </tr>\n",
                            "    <tr>\n",
                            "      <th>6</th>\n",
                            "      <td>drug was used for depression i have taken anti...</td>\n",
                            "      <td>1</td>\n",
                            "    </tr>\n",
                            "    <tr>\n",
                            "      <th>7</th>\n",
                            "      <td>drug was used for ibromyalgia i ve been taking...</td>\n",
                            "      <td>1</td>\n",
                            "    </tr>\n",
                            "    <tr>\n",
                            "      <th>8</th>\n",
                            "      <td>drug was used for bipolar disorde i ve been on...</td>\n",
                            "      <td>1</td>\n",
                            "    </tr>\n",
                            "    <tr>\n",
                            "      <th>9</th>\n",
                            "      <td>drug was used for hiv infection spring of i wa...</td>\n",
                            "      <td>1</td>\n",
                            "    </tr>\n",
                            "  </tbody>\n",
                            "</table>\n",
                            "</div>\n",
                            "    <div class=\"colab-df-buttons\">\n",
                            "\n",
                            "  <div class=\"colab-df-container\">\n",
                            "    <button class=\"colab-df-convert\" onclick=\"convertToInteractive('df-2abff88c-f263-4101-b212-298136d2bec8')\"\n",
                            "            title=\"Convert this dataframe to an interactive table.\"\n",
                            "            style=\"display:none;\">\n",
                            "\n",
                            "  <svg xmlns=\"http://www.w3.org/2000/svg\" height=\"24px\" viewBox=\"0 -960 960 960\">\n",
                            "    <path d=\"M120-120v-720h720v720H120Zm60-500h600v-160H180v160Zm220 220h160v-160H400v160Zm0 220h160v-160H400v160ZM180-400h160v-160H180v160Zm440 0h160v-160H620v160ZM180-180h160v-160H180v160Zm440 0h160v-160H620v160Z\"/>\n",
                            "  </svg>\n",
                            "    </button>\n",
                            "\n",
                            "  <style>\n",
                            "    .colab-df-container {\n",
                            "      display:flex;\n",
                            "      gap: 12px;\n",
                            "    }\n",
                            "\n",
                            "    .colab-df-convert {\n",
                            "      background-color: #E8F0FE;\n",
                            "      border: none;\n",
                            "      border-radius: 50%;\n",
                            "      cursor: pointer;\n",
                            "      display: none;\n",
                            "      fill: #1967D2;\n",
                            "      height: 32px;\n",
                            "      padding: 0 0 0 0;\n",
                            "      width: 32px;\n",
                            "    }\n",
                            "\n",
                            "    .colab-df-convert:hover {\n",
                            "      background-color: #E2EBFA;\n",
                            "      box-shadow: 0px 1px 2px rgba(60, 64, 67, 0.3), 0px 1px 3px 1px rgba(60, 64, 67, 0.15);\n",
                            "      fill: #174EA6;\n",
                            "    }\n",
                            "\n",
                            "    .colab-df-buttons div {\n",
                            "      margin-bottom: 4px;\n",
                            "    }\n",
                            "\n",
                            "    [theme=dark] .colab-df-convert {\n",
                            "      background-color: #3B4455;\n",
                            "      fill: #D2E3FC;\n",
                            "    }\n",
                            "\n",
                            "    [theme=dark] .colab-df-convert:hover {\n",
                            "      background-color: #434B5C;\n",
                            "      box-shadow: 0px 1px 3px 1px rgba(0, 0, 0, 0.15);\n",
                            "      filter: drop-shadow(0px 1px 2px rgba(0, 0, 0, 0.3));\n",
                            "      fill: #FFFFFF;\n",
                            "    }\n",
                            "  </style>\n",
                            "\n",
                            "    <script>\n",
                            "      const buttonEl =\n",
                            "        document.querySelector('#df-2abff88c-f263-4101-b212-298136d2bec8 button.colab-df-convert');\n",
                            "      buttonEl.style.display =\n",
                            "        google.colab.kernel.accessAllowed ? 'block' : 'none';\n",
                            "\n",
                            "      async function convertToInteractive(key) {\n",
                            "        const element = document.querySelector('#df-2abff88c-f263-4101-b212-298136d2bec8');\n",
                            "        const dataTable =\n",
                            "          await google.colab.kernel.invokeFunction('convertToInteractive',\n",
                            "                                                    [key], {});\n",
                            "        if (!dataTable) return;\n",
                            "\n",
                            "        const docLinkHtml = 'Like what you see? Visit the ' +\n",
                            "          '<a target=\"_blank\" href=https://colab.research.google.com/notebooks/data_table.ipynb>data table notebook</a>'\n",
                            "          + ' to learn more about interactive tables.';\n",
                            "        element.innerHTML = '';\n",
                            "        dataTable['output_type'] = 'display_data';\n",
                            "        await google.colab.output.renderOutput(dataTable, element);\n",
                            "        const docLink = document.createElement('div');\n",
                            "        docLink.innerHTML = docLinkHtml;\n",
                            "        element.appendChild(docLink);\n",
                            "      }\n",
                            "    </script>\n",
                            "  </div>\n",
                            "\n",
                            "\n",
                            "<div id=\"df-8825f7b9-b0ad-4afc-a5ca-629a76abbdad\">\n",
                            "  <button class=\"colab-df-quickchart\" onclick=\"quickchart('df-8825f7b9-b0ad-4afc-a5ca-629a76abbdad')\"\n",
                            "            title=\"Suggest charts\"\n",
                            "            style=\"display:none;\">\n",
                            "\n",
                            "<svg xmlns=\"http://www.w3.org/2000/svg\" height=\"24px\"viewBox=\"0 0 24 24\"\n",
                            "     width=\"24px\">\n",
                            "    <g>\n",
                            "        <path d=\"M19 3H5c-1.1 0-2 .9-2 2v14c0 1.1.9 2 2 2h14c1.1 0 2-.9 2-2V5c0-1.1-.9-2-2-2zM9 17H7v-7h2v7zm4 0h-2V7h2v10zm4 0h-2v-4h2v4z\"/>\n",
                            "    </g>\n",
                            "</svg>\n",
                            "  </button>\n",
                            "\n",
                            "<style>\n",
                            "  .colab-df-quickchart {\n",
                            "      --bg-color: #E8F0FE;\n",
                            "      --fill-color: #1967D2;\n",
                            "      --hover-bg-color: #E2EBFA;\n",
                            "      --hover-fill-color: #174EA6;\n",
                            "      --disabled-fill-color: #AAA;\n",
                            "      --disabled-bg-color: #DDD;\n",
                            "  }\n",
                            "\n",
                            "  [theme=dark] .colab-df-quickchart {\n",
                            "      --bg-color: #3B4455;\n",
                            "      --fill-color: #D2E3FC;\n",
                            "      --hover-bg-color: #434B5C;\n",
                            "      --hover-fill-color: #FFFFFF;\n",
                            "      --disabled-bg-color: #3B4455;\n",
                            "      --disabled-fill-color: #666;\n",
                            "  }\n",
                            "\n",
                            "  .colab-df-quickchart {\n",
                            "    background-color: var(--bg-color);\n",
                            "    border: none;\n",
                            "    border-radius: 50%;\n",
                            "    cursor: pointer;\n",
                            "    display: none;\n",
                            "    fill: var(--fill-color);\n",
                            "    height: 32px;\n",
                            "    padding: 0;\n",
                            "    width: 32px;\n",
                            "  }\n",
                            "\n",
                            "  .colab-df-quickchart:hover {\n",
                            "    background-color: var(--hover-bg-color);\n",
                            "    box-shadow: 0 1px 2px rgba(60, 64, 67, 0.3), 0 1px 3px 1px rgba(60, 64, 67, 0.15);\n",
                            "    fill: var(--button-hover-fill-color);\n",
                            "  }\n",
                            "\n",
                            "  .colab-df-quickchart-complete:disabled,\n",
                            "  .colab-df-quickchart-complete:disabled:hover {\n",
                            "    background-color: var(--disabled-bg-color);\n",
                            "    fill: var(--disabled-fill-color);\n",
                            "    box-shadow: none;\n",
                            "  }\n",
                            "\n",
                            "  .colab-df-spinner {\n",
                            "    border: 2px solid var(--fill-color);\n",
                            "    border-color: transparent;\n",
                            "    border-bottom-color: var(--fill-color);\n",
                            "    animation:\n",
                            "      spin 1s steps(1) infinite;\n",
                            "  }\n",
                            "\n",
                            "  @keyframes spin {\n",
                            "    0% {\n",
                            "      border-color: transparent;\n",
                            "      border-bottom-color: var(--fill-color);\n",
                            "      border-left-color: var(--fill-color);\n",
                            "    }\n",
                            "    20% {\n",
                            "      border-color: transparent;\n",
                            "      border-left-color: var(--fill-color);\n",
                            "      border-top-color: var(--fill-color);\n",
                            "    }\n",
                            "    30% {\n",
                            "      border-color: transparent;\n",
                            "      border-left-color: var(--fill-color);\n",
                            "      border-top-color: var(--fill-color);\n",
                            "      border-right-color: var(--fill-color);\n",
                            "    }\n",
                            "    40% {\n",
                            "      border-color: transparent;\n",
                            "      border-right-color: var(--fill-color);\n",
                            "      border-top-color: var(--fill-color);\n",
                            "    }\n",
                            "    60% {\n",
                            "      border-color: transparent;\n",
                            "      border-right-color: var(--fill-color);\n",
                            "    }\n",
                            "    80% {\n",
                            "      border-color: transparent;\n",
                            "      border-right-color: var(--fill-color);\n",
                            "      border-bottom-color: var(--fill-color);\n",
                            "    }\n",
                            "    90% {\n",
                            "      border-color: transparent;\n",
                            "      border-bottom-color: var(--fill-color);\n",
                            "    }\n",
                            "  }\n",
                            "</style>\n",
                            "\n",
                            "  <script>\n",
                            "    async function quickchart(key) {\n",
                            "      const quickchartButtonEl =\n",
                            "        document.querySelector('#' + key + ' button');\n",
                            "      quickchartButtonEl.disabled = true;  // To prevent multiple clicks.\n",
                            "      quickchartButtonEl.classList.add('colab-df-spinner');\n",
                            "      try {\n",
                            "        const charts = await google.colab.kernel.invokeFunction(\n",
                            "            'suggestCharts', [key], {});\n",
                            "      } catch (error) {\n",
                            "        console.error('Error during call to suggestCharts:', error);\n",
                            "      }\n",
                            "      quickchartButtonEl.classList.remove('colab-df-spinner');\n",
                            "      quickchartButtonEl.classList.add('colab-df-quickchart-complete');\n",
                            "    }\n",
                            "    (() => {\n",
                            "      let quickchartButtonEl =\n",
                            "        document.querySelector('#df-8825f7b9-b0ad-4afc-a5ca-629a76abbdad button');\n",
                            "      quickchartButtonEl.style.display =\n",
                            "        google.colab.kernel.accessAllowed ? 'block' : 'none';\n",
                            "    })();\n",
                            "  </script>\n",
                            "</div>\n",
                            "\n",
                            "    </div>\n",
                            "  </div>\n"
                        ]
                    },
                    "metadata": {},
                    "execution_count": 14
                }
            ],
            "source": [
                "# Show cleaned data\n",
                "print(f\"No. of rows: {df.shape[0]}\")\n",
                "df.head(10)"
            ]
        },
        {
            "cell_type": "code",
            "execution_count": 9,
            "metadata": {
                "id": "Bw9pFjHMc9A4"
            },
            "outputs": [],
            "source": [
                "# Save cleaned data\n",
                "df.to_csv(\"data/clean.csv\", index=False)"
            ]
        },
        {
            "cell_type": "markdown",
            "metadata": {
                "id": "OPriyEpkc9A4"
            },
            "source": ["## Models\n"]
        },
        {
            "cell_type": "code",
            "execution_count": 10,
            "metadata": {
                "id": "YbwM-5HYc9A4"
            },
            "outputs": [],
            "source": [
                "from imblearn.over_sampling import SMOTE\n",
                "import matplotlib.pyplot as plt\n",
                "import numpy as np\n",
                "import pandas as pd\n",
                "from seaborn import heatmap\n",
                "from sklearn.metrics import classification_report, confusion_matrix\n",
                "from sklearn.model_selection import train_test_split, GridSearchCV"
            ]
        },
        {
            "cell_type": "code",
            "execution_count": 11,
            "metadata": {
                "id": "DTJ9V6DQc9A5"
            },
            "outputs": [],
            "source": [
                "df = pd.read_csv(\"data/clean.csv\")\n",
                "X_train, X_val, y_train, y_val = train_test_split(\n",
                "    df[\"text\"], df[\"label\"], test_size=0.2\n",
                ")\n",
                "\n",
                "\n",
                "def show_eval(model, X_train, X_val, y_train, y_val):\n",
                "    print(f\"Train accuracy: {model.score(X_train, y_train) * 100:.3f}%\")\n",
                "    print(f\"Test accuracy: {model.score(X_val, y_val) * 100:.3f}%\")\n",
                "\n",
                "    y_pred = model.predict(X_val)\n",
                "    print(classification_report(y_val, y_pred))\n",
                "    heatmap(confusion_matrix(y_val, y_pred), annot=True, fmt=\"d\")\n",
                "    plt.show()\n",
                "\n",
                "\n",
                "def transform_oversample(encoder, X_train, X_val, y_train, y_val):\n",
                "    X_train = encoder.fit_transform(X_train)\n",
                "    X_val = encoder.transform(X_val)\n",
                "\n",
                "    smote = SMOTE()\n",
                "    X_train, y_train = smote.fit_resample(X_train, y_train)\n",
                "\n",
                "    return X_train, X_val, y_train, y_val.copy()"
            ]
        },
        {
            "cell_type": "markdown",
            "metadata": {
                "id": "1ancfmuOc9A5"
            },
            "source": ["### Logistic Regression\n"]
        },
        {
            "cell_type": "code",
            "execution_count": 12,
            "metadata": {
                "id": "2VmZPCW5c9A5"
            },
            "outputs": [],
            "source": [
                "from sklearn.linear_model import LogisticRegression\n",
                "from sklearn.feature_extraction.text import CountVectorizer\n",
                "\n",
                "# Bag of words\n",
                "cv = CountVectorizer(strip_accents=\"unicode\", stop_words=\"english\")\n",
                "X_train_lr, X_val_lr, y_train_lr, y_val_lr = transform_oversample(\n",
                "    cv, X_train, X_val, y_train, y_val\n",
                ")"
            ]
        },
        {
            "cell_type": "code",
            "execution_count": 13,
            "metadata": {
                "id": "W5x-_ABjc9A5",
                "outputId": "d2c5f3e4-0dfc-43b7-c208-5fc3b94fa9e9"
            },
            "outputs": [
                {
                    "name": "stdout",
                    "output_type": "stream",
                    "text": [
                        "Train accuracy: 91.834%\n",
                        "Test accuracy: 76.264%\n",
                        "              precision    recall  f1-score   support\n",
                        "\n",
                        "           0       0.63      0.71      0.67      2014\n",
                        "           1       0.84      0.79      0.82      4019\n",
                        "\n",
                        "    accuracy                           0.76      6033\n",
                        "   macro avg       0.74      0.75      0.74      6033\n",
                        "weighted avg       0.77      0.76      0.77      6033\n",
                        "\n"
                    ]
                },
                {
                    "data": {
                        "image/png": "[encoded data removed]",
                        "text/plain": ["<Figure size 640x480 with 2 Axes>"]
                    },
                    "metadata": {},
                    "output_type": "display_data"
                }
            ],
            "source": [
                "# Logistic regression model\n",
                "lr = GridSearchCV(\n",
                "    LogisticRegression(max_iter=1000),\n",
                "    param_grid={\n",
                "        \"C\": np.logspace(-3, 3, 7),\n",
                "        \"solver\": [\"newton-cg\", \"lbfgs\", \"saga\"],\n",
                "    },\n",
                "    n_jobs=4,\n",
                "    cv=3,\n",
                ")\n",
                "lr.fit(X_train_lr, y_train_lr)\n",
                "\n",
                "show_eval(lr, X_train_lr, X_val_lr, y_train_lr, y_val_lr)"
            ]
        },
        {
            "cell_type": "markdown",
            "metadata": {
                "id": "14l-p8wXc9A5"
            },
            "source": ["### Naive Bayes\n"]
        },
        {
            "cell_type": "code",
            "execution_count": 14,
            "metadata": {
                "id": "x29fyW_Gc9A6"
            },
            "outputs": [],
            "source": [
                "from sklearn.feature_extraction.text import CountVectorizer\n",
                "\n",
                "# Bag of n-grams\n",
                "cv = CountVectorizer(\n",
                "    strip_accents=\"unicode\",\n",
                "    stop_words=\"english\",\n",
                "    ngram_range=(1, 2),\n",
                "    max_features=40000,\n",
                ")\n",
                "X_train_mnb, X_val_mnb, y_train_mnb, y_val_mnb = transform_oversample(\n",
                "    cv, X_train, X_val, y_train, y_val\n",
                ")"
            ]
        },
        {
            "cell_type": "code",
            "execution_count": 15,
            "metadata": {
                "id": "kwah2RE6c9A6",
                "outputId": "1e627313-7d2f-438f-9e89-c1a076dfcba5"
            },
            "outputs": [
                {
                    "name": "stdout",
                    "output_type": "stream",
                    "text": [
                        "Train accuracy: 88.482%\n",
                        "Test accuracy: 75.651%\n",
                        "              precision    recall  f1-score   support\n",
                        "\n",
                        "           0       0.63      0.66      0.64      2014\n",
                        "           1       0.83      0.80      0.81      4019\n",
                        "\n",
                        "    accuracy                           0.76      6033\n",
                        "   macro avg       0.73      0.73      0.73      6033\n",
                        "weighted avg       0.76      0.76      0.76      6033\n",
                        "\n"
                    ]
                },
                {
                    "data": {
                        "image/png": "[encoded data removed]",
                        "text/plain": ["<Figure size 640x480 with 2 Axes>"]
                    },
                    "metadata": {},
                    "output_type": "display_data"
                }
            ],
            "source": [
                "from sklearn.naive_bayes import MultinomialNB\n",
                "\n",
                "# Multinomial Naive Bayes model\n",
                "MNB = GridSearchCV(\n",
                "    MultinomialNB(),\n",
                "    param_grid={\"alpha\": np.linspace(0.1, 1, 10)},\n",
                "    n_jobs=4,\n",
                ")\n",
                "MNB.fit(X_train_mnb, y_train_mnb)\n",
                "\n",
                "show_eval(MNB, X_train_mnb, X_val_mnb, y_train_mnb, y_val_mnb)"
            ]
        },
        {
            "cell_type": "markdown",
            "metadata": {
                "id": "Xo_CiE-cc9A6"
            },
            "source": ["### Support Vector Classification\n"]
        },
        {
            "cell_type": "code",
            "execution_count": 16,
            "metadata": {
                "id": "TfXHcyG_c9A6"
            },
            "outputs": [],
            "source": [
                "from sklearn.feature_extraction.text import TfidfVectorizer\n",
                "\n",
                "# TF-IDF\n",
                "tfv = TfidfVectorizer(\n",
                "    strip_accents=\"unicode\",\n",
                "    stop_words=\"english\",\n",
                "    ngram_range=(1, 2),\n",
                "    max_features=10000,\n",
                ")\n",
                "X_train_svc, X_val_svc, y_train_svc, y_val_svc = transform_oversample(\n",
                "    tfv, X_train, X_val, y_train, y_val\n",
                ")"
            ]
        },
        {
            "cell_type": "code",
            "execution_count": 17,
            "metadata": {
                "id": "hbSc3Q2qc9A6",
                "outputId": "02bc5ebd-76a2-461b-a884-63c9cbe7b986"
            },
            "outputs": [
                {
                    "name": "stdout",
                    "output_type": "stream",
                    "text": [
                        "Train accuracy: 93.850%\n",
                        "Test accuracy: 77.723%\n",
                        "              precision    recall  f1-score   support\n",
                        "\n",
                        "           0       0.65      0.71      0.68      2014\n",
                        "           1       0.85      0.81      0.83      4019\n",
                        "\n",
                        "    accuracy                           0.78      6033\n",
                        "   macro avg       0.75      0.76      0.75      6033\n",
                        "weighted avg       0.78      0.78      0.78      6033\n",
                        "\n"
                    ]
                },
                {
                    "data": {
                        "image/png": "[encoded data removed]",
                        "text/plain": ["<Figure size 640x480 with 2 Axes>"]
                    },
                    "metadata": {},
                    "output_type": "display_data"
                }
            ],
            "source": [
                "from sklearn.svm import LinearSVC\n",
                "\n",
                "# Linear SVC model\n",
                "linearSVC = GridSearchCV(\n",
                "    LinearSVC(),\n",
                "    param_grid={\"loss\": [\"squared_hinge\", \"hinge\"], \"C\": np.logspace(-3, 3, 7)},\n",
                "    n_jobs=4,\n",
                "    cv=3,\n",
                ")\n",
                "linearSVC.fit(X_train_svc, y_train_svc)\n",
                "\n",
                "show_eval(linearSVC, X_train_svc, X_val_svc, y_train_svc, y_val_svc)"
            ]
        },
        {
            "cell_type": "markdown",
            "metadata": {
                "id": "R8BS6OZGc9A7"
            },
            "source": ["### FastText\n"]
        },
        {
            "cell_type": "code",
            "execution_count": 18,
            "metadata": {
                "id": "Fdo69rjGc9A7"
            },
            "outputs": [],
            "source": [
                "# Format dataset for fasttext\n",
                "train_ft = \"__label__\" + y_train.astype(str) + \" \" + X_train\n",
                "train_ft.to_csv(\"data/fasttext.train\", index=False, header=False)"
            ]
        },
        {
            "cell_type": "code",
            "execution_count": 19,
            "metadata": {
                "colab": {
                    "base_uri": "https://localhost:8080/",
                    "height": 622
                },
                "id": "L37AIP7Nc9A7",
                "outputId": "cfcbbc0e-892b-4edd-fc63-a931dc66d8eb"
            },
            "outputs": [
                {
                    "name": "stderr",
                    "output_type": "stream",
                    "text": [
                        "Read 2M words\n",
                        "Number of words:  22662\n",
                        "Number of labels: 2\n",
                        "Progress: 100.0% words/sec/thread: 2648589 lr:  0.000000 avg.loss:  0.374754 ETA:   0h 0m 0s\n"
                    ]
                },
                {
                    "name": "stdout",
                    "output_type": "stream",
                    "text": [
                        "Train accuracy: 87.961%\n",
                        "Test accuracy: 80.739%\n",
                        "              precision    recall  f1-score   support\n",
                        "\n",
                        "           0       0.73      0.67      0.70      2014\n",
                        "           1       0.84      0.87      0.86      4019\n",
                        "\n",
                        "    accuracy                           0.81      6033\n",
                        "   macro avg       0.79      0.77      0.78      6033\n",
                        "weighted avg       0.80      0.81      0.81      6033\n",
                        "\n"
                    ]
                },
                {
                    "data": {
                        "image/png": "[encoded data removed]",
                        "text/plain": ["<Figure size 640x480 with 2 Axes>"]
                    },
                    "metadata": {},
                    "output_type": "display_data"
                }
            ],
            "source": [
                "import fasttext\n",
                "\n",
                "# Fasttext model\n",
                "ft = fasttext.train_supervised(input=\"data/fasttext.train\", epoch=20)\n",
                "\n",
                "# Add methods so that show_eval can be used\n",
                "ft.ft_predict = ft.predict\n",
                "ft.predict = lambda X: list(\n",
                "    map(lambda s: int(s[0].replace(\"__label__\", \"\")), ft.ft_predict(X.to_list())[0])\n",
                ")\n",
                "ft.score = lambda X, y: np.mean(ft.predict(X) == y)\n",
                "\n",
                "show_eval(ft, X_train, X_val, y_train, y_val)"
            ]
        },
        {
            "cell_type": "markdown",
            "metadata": {
                "id": "lhondblEc9A7"
            },
            "source": ["### LSTM\n"]
        },
        {
            "cell_type": "code",
            "execution_count": 20,
            "metadata": {
                "id": "LqjKLjHlc9A7"
            },
            "outputs": [],
            "source": [
                "import tensorflow as tf\n",
                "\n",
                "# Create datasets\n",
                "BATCH_SIZE = 64\n",
                "train_ds = (\n",
                "    tf.data.Dataset.from_tensor_slices((X_train, y_train))\n",
                "    .batch(BATCH_SIZE)\n",
                "    .prefetch(tf.data.AUTOTUNE)\n",
                ")\n",
                "val_ds = (\n",
                "    tf.data.Dataset.from_tensor_slices((X_val, y_val))\n",
                "    .batch(BATCH_SIZE)\n",
                "    .prefetch(tf.data.AUTOTUNE)\n",
                ")\n",
                "\n",
                "# Use class weights instead of oversampling\n",
                "neg = y_train.value_counts()[0]\n",
                "pos = y_train.value_counts()[1]\n",
                "total = y_train.shape[0]\n",
                "\n",
                "weight_neg = (1 / neg) * (total / 2.0)\n",
                "weight_pos = (1 / pos) * (total / 2.0)\n",
                "class_weights = {0: weight_neg, 1: weight_pos}"
            ]
        },
        {
            "cell_type": "code",
            "execution_count": 21,
            "metadata": {
                "colab": {
                    "base_uri": "https://localhost:8080/",
                    "height": 425
                },
                "id": "Z_cdHp-ic9A8",
                "outputId": "90ad63b8-c0e4-4020-c499-fd795ea2c22d"
            },
            "outputs": [
                {
                    "name": "stdout",
                    "output_type": "stream",
                    "text": [
                        "Epoch 1/100\n",
                        "378/378 [==============================] - 21s 39ms/step - loss: 0.5977 - accuracy: 0.7175 - val_loss: 0.4829 - val_accuracy: 0.7875\n",
                        "Epoch 2/100\n",
                        "378/378 [==============================] - 12s 33ms/step - loss: 0.5106 - accuracy: 0.7740 - val_loss: 0.4776 - val_accuracy: 0.7890\n",
                        "Epoch 3/100\n",
                        "378/378 [==============================] - 12s 32ms/step - loss: 0.5009 - accuracy: 0.7794 - val_loss: 0.4727 - val_accuracy: 0.7953\n",
                        "Epoch 4/100\n",
                        "378/378 [==============================] - 12s 32ms/step - loss: 0.4966 - accuracy: 0.7802 - val_loss: 0.4649 - val_accuracy: 0.7968\n",
                        "Epoch 5/100\n",
                        "378/378 [==============================] - 12s 32ms/step - loss: 0.4922 - accuracy: 0.7819 - val_loss: 0.4670 - val_accuracy: 0.7971\n",
                        "Epoch 6/100\n",
                        "378/378 [==============================] - 12s 32ms/step - loss: 0.4891 - accuracy: 0.7862 - val_loss: 0.4703 - val_accuracy: 0.7925\n",
                        "Epoch 7/100\n",
                        "378/378 [==============================] - 12s 32ms/step - loss: 0.4872 - accuracy: 0.7874 - val_loss: 0.4672 - val_accuracy: 0.7966\n",
                        "Epoch 8/100\n",
                        "378/378 [==============================] - 12s 32ms/step - loss: 0.4844 - accuracy: 0.7891 - val_loss: 0.4632 - val_accuracy: 0.7968\n",
                        "Epoch 9/100\n",
                        "378/378 [==============================] - 12s 32ms/step - loss: 0.4799 - accuracy: 0.7891 - val_loss: 0.4598 - val_accuracy: 0.7970\n",
                        "Epoch 10/100\n",
                        "378/378 [==============================] - 12s 32ms/step - loss: 0.4780 - accuracy: 0.7907 - val_loss: 0.4602 - val_accuracy: 0.7963\n",
                        "Epoch 11/100\n",
                        "378/378 [==============================] - 12s 32ms/step - loss: 0.4758 - accuracy: 0.7923 - val_loss: 0.4629 - val_accuracy: 0.7983\n",
                        "Epoch 12/100\n",
                        "378/378 [==============================] - 12s 32ms/step - loss: 0.4715 - accuracy: 0.7921 - val_loss: 0.4612 - val_accuracy: 0.7989\n",
                        "Epoch 13/100\n",
                        "378/378 [==============================] - 12s 32ms/step - loss: 0.4680 - accuracy: 0.7953 - val_loss: 0.4668 - val_accuracy: 0.7946\n",
                        "Epoch 14/100\n",
                        "378/378 [==============================] - 12s 32ms/step - loss: 0.4655 - accuracy: 0.7968 - val_loss: 0.4565 - val_accuracy: 0.8019\n",
                        "Epoch 15/100\n",
                        "378/378 [==============================] - 12s 32ms/step - loss: 0.4581 - accuracy: 0.8022 - val_loss: 0.4543 - val_accuracy: 0.8071\n",
                        "Epoch 16/100\n",
                        "378/378 [==============================] - 12s 33ms/step - loss: 0.4532 - accuracy: 0.8042 - val_loss: 0.4554 - val_accuracy: 0.8061\n",
                        "Epoch 17/100\n",
                        "378/378 [==============================] - 12s 32ms/step - loss: 0.4487 - accuracy: 0.8083 - val_loss: 0.4568 - val_accuracy: 0.8067\n",
                        "Epoch 18/100\n",
                        "378/378 [==============================] - 12s 32ms/step - loss: 0.4409 - accuracy: 0.8144 - val_loss: 0.4561 - val_accuracy: 0.8071\n",
                        "Epoch 19/100\n",
                        "378/378 [==============================] - 12s 32ms/step - loss: 0.4398 - accuracy: 0.8137 - val_loss: 0.4711 - val_accuracy: 0.7981\n",
                        "Epoch 20/100\n",
                        "378/378 [==============================] - 12s 32ms/step - loss: 0.4348 - accuracy: 0.8193 - val_loss: 0.4697 - val_accuracy: 0.8051\n",
                        "Epoch 21/100\n",
                        "378/378 [==============================] - 12s 33ms/step - loss: 0.4356 - accuracy: 0.8199 - val_loss: 0.4895 - val_accuracy: 0.7935\n",
                        "Epoch 22/100\n",
                        "378/378 [==============================] - 12s 33ms/step - loss: 0.4313 - accuracy: 0.8228 - val_loss: 0.4985 - val_accuracy: 0.7873\n",
                        "Epoch 23/100\n",
                        "378/378 [==============================] - 12s 32ms/step - loss: 0.4288 - accuracy: 0.8239 - val_loss: 0.4799 - val_accuracy: 0.7993\n",
                        "\n",
                        "Train accuracy: 83.874%\n",
                        "Test accuracy: 80.706%\n",
                        "              precision    recall  f1-score   support\n",
                        "\n",
                        "           0       0.72      0.70      0.71      2049\n",
                        "           1       0.85      0.86      0.86      3984\n",
                        "\n",
                        "    accuracy                           0.81      6033\n",
                        "   macro avg       0.79      0.78      0.78      6033\n",
                        "weighted avg       0.81      0.81      0.81      6033\n",
                        "\n"
                    ]
                },
                {
                    "data": {
                        "image/png": "[encoded data removed]",
                        "text/plain": ["<Figure size 640x480 with 2 Axes>"]
                    },
                    "metadata": {},
                    "output_type": "display_data"
                }
            ],
            "source": [
                "from keras.callbacks import EarlyStopping\n",
                "from keras.models import Sequential\n",
                "from keras.layers import (\n",
                "    TextVectorization,\n",
                "    Embedding,\n",
                "    Bidirectional,\n",
                "    LSTM,\n",
                "    Dense,\n",
                "    Dropout,\n",
                ")\n",
                "from keras.regularizers import l2\n",
                "\n",
                "# Text vectorization layer\n",
                "lstm_vec_layer = TextVectorization(\n",
                "    max_tokens=500, output_mode=\"int\", output_sequence_length=500\n",
                ")\n",
                "lstm_vec_layer.adapt(X_train.values)\n",
                "\n",
                "# LSTM model\n",
                "lstm = Sequential(\n",
                "    [\n",
                "        lstm_vec_layer,\n",
                "        Embedding(\n",
                "            input_dim=len(lstm_vec_layer.get_vocabulary()),\n",
                "            output_dim=128,\n",
                "            embeddings_regularizer=l2(0.0005),\n",
                "            mask_zero=True,\n",
                "        ),\n",
                "        Dense(128, activation=\"leaky_relu\"),\n",
                "        Dropout(0.3),\n",
                "        Bidirectional(LSTM(64, kernel_regularizer=l2(0.0005))),\n",
                "        Dense(64, activation=\"leaky_relu\"),\n",
                "        Dropout(0.3),\n",
                "        Dense(1, activation=\"sigmoid\"),\n",
                "    ]\n",
                ")\n",
                "\n",
                "lstm.compile(\n",
                "    optimizer=\"adam\",\n",
                "    loss=\"binary_crossentropy\",\n",
                "    metrics=[\"accuracy\"],\n",
                ")\n",
                "\n",
                "# Fit model\n",
                "early_stopping = EarlyStopping(\n",
                "    monitor=\"val_loss\", patience=8, mode=\"min\", restore_best_weights=True\n",
                ")\n",
                "lstm.fit(\n",
                "    train_ds,\n",
                "    epochs=100,\n",
                "    callbacks=[early_stopping],\n",
                "    validation_data=val_ds,\n",
                "    class_weight=class_weights,\n",
                ")\n",
                "\n",
                "# Add methods so that show_eval can be used\n",
                "lstm.score = lambda X, y: lstm.evaluate(X.to_numpy(), y, verbose=0)[1]\n",
                "lstm.tf_predict = lstm.predict\n",
                "lstm.predict = lambda X: lstm.tf_predict(X, verbose=0).flatten().round().astype(int)\n",
                "\n",
                "print()\n",
                "show_eval(lstm, X_train, X_val, y_train, y_val)"
            ]
        },
        {
            "cell_type": "markdown",
            "metadata": {
                "id": "-k-4ETPQc9A8"
            },
            "source": ["### BERT (Pre-trained Transformer)\n"]
        },
        {
            "cell_type": "code",
            "execution_count": 22,
            "metadata": {
                "id": "HnBBSeFVc9A8"
            },
            "outputs": [],
            "source": [
                "import tensorflow as tf\n",
                "\n",
                "# Speed up training with mixed precision\n",
                "tf.keras.mixed_precision.set_global_policy(\"mixed_float16\")\n",
                "\n",
                "# Create datasets\n",
                "BATCH_SIZE = 32\n",
                "train_ds = (\n",
                "    tf.data.Dataset.from_tensor_slices((X_train, y_train))\n",
                "    .repeat()\n",
                "    .batch(BATCH_SIZE)\n",
                "    .prefetch(tf.data.AUTOTUNE)\n",
                ")\n",
                "val_ds = (\n",
                "    tf.data.Dataset.from_tensor_slices((X_val, y_val))\n",
                "    .batch(BATCH_SIZE)\n",
                "    .prefetch(tf.data.AUTOTUNE)\n",
                ")\n",
                "\n",
                "# Use class weights instead of oversampling\n",
                "neg = y_train.value_counts()[0]\n",
                "pos = y_train.value_counts()[1]\n",
                "total = y_train.shape[0]\n",
                "\n",
                "weight_neg = (1 / neg) * (total / 2.0)\n",
                "weight_pos = (1 / pos) * (total / 2.0)\n",
                "class_weights = {0: weight_neg, 1: weight_pos}"
            ]
        },
        {
            "cell_type": "code",
            "execution_count": 23,
            "metadata": {
                "colab": {
                    "base_uri": "https://localhost:8080/",
                    "height": 1000
                },
                "id": "ikgKB030c9A9",
                "outputId": "b8de7f81-8ca5-4c00-e3ed-10683e97ecfd"
            },
            "outputs": [
                {
                    "output_type": "stream",
                    "name": "stdout",
                    "text": [
                        "Epoch 1/30\n",
                        "\u001b[1m200/200\u001b[0m \u001b[32m━━━━━━━━━━━━━━━━━━━━\u001b[0m\u001b[37m\u001b[0m \u001b[1m206s\u001b[0m 515ms/step - loss: 0.6322 - sparse_categorical_accuracy: 0.6082 - val_loss: 0.4026 - val_sparse_categorical_accuracy: 0.8205\n",
                        "Epoch 2/30\n",
                        "\u001b[1m200/200\u001b[0m \u001b[32m━━━━━━━━━━━━━━━━━━━━\u001b[0m\u001b[37m\u001b[0m \u001b[1m83s\u001b[0m 417ms/step - loss: 0.4635 - sparse_categorical_accuracy: 0.7819 - val_loss: 0.3977 - val_sparse_categorical_accuracy: 0.8253\n",
                        "Epoch 3/30\n",
                        "\u001b[1m200/200\u001b[0m \u001b[32m━━━━━━━━━━━━━━━━━━━━\u001b[0m\u001b[37m\u001b[0m \u001b[1m81s\u001b[0m 404ms/step - loss: 0.4220 - sparse_categorical_accuracy: 0.8079 - val_loss: 0.4139 - val_sparse_categorical_accuracy: 0.8112\n",
                        "Epoch 4/30\n",
                        "\u001b[1m200/200\u001b[0m \u001b[32m━━━━━━━━━━━━━━━━━━━━\u001b[0m\u001b[37m\u001b[0m \u001b[1m82s\u001b[0m 411ms/step - loss: 0.3779 - sparse_categorical_accuracy: 0.8347 - val_loss: 0.4574 - val_sparse_categorical_accuracy: 0.8021\n",
                        "Epoch 5/30\n",
                        "\u001b[1m200/200\u001b[0m \u001b[32m━━━━━━━━━━━━━━━━━━━━\u001b[0m\u001b[37m\u001b[0m \u001b[1m83s\u001b[0m 414ms/step - loss: 0.3414 - sparse_categorical_accuracy: 0.8617 - val_loss: 0.3242 - val_sparse_categorical_accuracy: 0.8659\n",
                        "Epoch 6/30\n",
                        "\u001b[1m200/200\u001b[0m \u001b[32m━━━━━━━━━━━━━━━━━━━━\u001b[0m\u001b[37m\u001b[0m \u001b[1m83s\u001b[0m 416ms/step - loss: 0.3087 - sparse_categorical_accuracy: 0.8770 - val_loss: 0.3218 - val_sparse_categorical_accuracy: 0.8618\n",
                        "Epoch 7/30\n",
                        "\u001b[1m200/200\u001b[0m \u001b[32m━━━━━━━━━━━━━━━━━━━━\u001b[0m\u001b[37m\u001b[0m \u001b[1m82s\u001b[0m 412ms/step - loss: 0.2665 - sparse_categorical_accuracy: 0.8926 - val_loss: 0.3699 - val_sparse_categorical_accuracy: 0.8374\n",
                        "Epoch 8/30\n",
                        "\u001b[1m200/200\u001b[0m \u001b[32m━━━━━━━━━━━━━━━━━━━━\u001b[0m\u001b[37m\u001b[0m \u001b[1m82s\u001b[0m 408ms/step - loss: 0.2786 - sparse_categorical_accuracy: 0.8836 - val_loss: 0.3597 - val_sparse_categorical_accuracy: 0.8570\n",
                        "Epoch 9/30\n",
                        "\u001b[1m200/200\u001b[0m \u001b[32m━━━━━━━━━━━━━━━━━━━━\u001b[0m\u001b[37m\u001b[0m \u001b[1m81s\u001b[0m 404ms/step - loss: 0.2277 - sparse_categorical_accuracy: 0.9106 - val_loss: 0.3463 - val_sparse_categorical_accuracy: 0.8601\n",
                        "\n",
                        "Train accuracy: 92.271%\n",
                        "Test accuracy: 86.176%\n",
                        "              precision    recall  f1-score   support\n",
                        "\n",
                        "           0       0.80      0.77      0.78      1941\n",
                        "           1       0.89      0.91      0.90      4092\n",
                        "\n",
                        "    accuracy                           0.86      6033\n",
                        "   macro avg       0.84      0.84      0.84      6033\n",
                        "weighted avg       0.86      0.86      0.86      6033\n",
                        "\n"
                    ]
                },
                {
                    "output_type": "display_data",
                    "data": {
                        "text/plain": ["<Figure size 640x480 with 2 Axes>"],
                        "image/png": "[encoded data removed]"
                    },
                    "metadata": {}
                }
            ],
            "source": [
                "from keras.callbacks import EarlyStopping\n",
                "from keras_nlp.models import BertClassifier\n",
                "\n",
                "# Pre-trained BERT model\n",
                "bert = BertClassifier.from_preset(\n",
                "    \"bert_medium_en_uncased\",\n",
                "    num_classes=2,\n",
                ")\n",
                "\n",
                "# Fit model\n",
                "early_stopping = EarlyStopping(\n",
                "    monitor=\"val_loss\", patience=3, mode=\"min\", restore_best_weights=True\n",
                ")\n",
                "bert.fit(\n",
                "    train_ds,\n",
                "    epochs=30,\n",
                "    callbacks=[early_stopping],\n",
                "    validation_data=val_ds,\n",
                "    class_weight=class_weights,\n",
                "    steps_per_epoch=200,  # Break up epochs for better early stopping\n",
                ")\n",
                "\n",
                "# Add methods so that show_eval can be used\n",
                "bert.score = lambda X, y: bert.evaluate(X, y, verbose=0)[1]\n",
                "bert.tf_predict = bert.predict\n",
                "bert.predict = lambda X: bert.tf_predict(X, verbose=0).argmax(axis=1)\n",
                "\n",
                "print()\n",
                "show_eval(bert, X_train, X_val, y_train, y_val)"
            ]
        },
        {
            "cell_type": "markdown",
            "metadata": {
                "id": "zAC2r40kUbZk"
            },
            "source": ["### Save best model\n"]
        },
        {
            "cell_type": "code",
            "execution_count": 24,
            "metadata": {
                "id": "C14cIi9OUbZk"
            },
            "outputs": [],
            "source": [
                "!mkdir ./checkpoints\n",
                "bert.save(\"checkpoints/bert-medium-druggie-6.keras\")"
            ]
        }
    ],
    "metadata": {
        "accelerator": "GPU",
        "colab": {
            "collapsed_sections": [],
            "gpuType": "T4",
            "provenance": []
        },
        "kernelspec": {
            "display_name": "Python 3",
            "name": "python3"
        },
        "language_info": {
            "codemirror_mode": {
                "name": "ipython",
                "version": 3
            },
            "file_extension": ".py",
            "mimetype": "text/x-python",
            "name": "python",
            "nbconvert_exporter": "python",
            "pygments_lexer": "ipython3",
            "version": "3.10.12"
        }
    },
    "nbformat": 4,
    "nbformat_minor": 0
}
