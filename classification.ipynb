{
 "cells": [
  {
   "cell_type": "markdown",
   "metadata": {},
   "source": [
    "## EDA and Data Cleaning\n"
   ]
  },
  {
   "cell_type": "code",
   "execution_count": 80,
   "metadata": {},
   "outputs": [],
   "source": [
    "import nltk\n",
    "import pandas as pd\n",
    "import string"
   ]
  },
  {
   "cell_type": "code",
   "execution_count": 81,
   "metadata": {},
   "outputs": [
    {
     "name": "stdout",
     "output_type": "stream",
     "text": [
      "<class 'pandas.core.frame.DataFrame'>\n",
      "RangeIndex: 14438 entries, 0 to 14437\n",
      "Data columns (total 2 columns):\n",
      " #   Column  Non-Null Count  Dtype \n",
      "---  ------  --------------  ----- \n",
      " 0   label   14438 non-null  int64 \n",
      " 1   text    14438 non-null  object\n",
      "dtypes: int64(1), object(1)\n",
      "memory usage: 225.7+ KB\n"
     ]
    }
   ],
   "source": [
    "# Data taken from: https://www.kaggle.com/datasets/chaitanyakck/medical-text\n",
    "df = pd.read_csv(\"data/train.dat\", sep=\"\\t\", header=None, names=[\"label\", \"text\"])\n",
    "df.info()"
   ]
  },
  {
   "cell_type": "code",
   "execution_count": 82,
   "metadata": {},
   "outputs": [
    {
     "data": {
      "text/html": [
       "<div>\n",
       "<style scoped>\n",
       "    .dataframe tbody tr th:only-of-type {\n",
       "        vertical-align: middle;\n",
       "    }\n",
       "\n",
       "    .dataframe tbody tr th {\n",
       "        vertical-align: top;\n",
       "    }\n",
       "\n",
       "    .dataframe thead th {\n",
       "        text-align: right;\n",
       "    }\n",
       "</style>\n",
       "<table border=\"1\" class=\"dataframe\">\n",
       "  <thead>\n",
       "    <tr style=\"text-align: right;\">\n",
       "      <th></th>\n",
       "      <th>label</th>\n",
       "      <th>text</th>\n",
       "    </tr>\n",
       "  </thead>\n",
       "  <tbody>\n",
       "    <tr>\n",
       "      <th>0</th>\n",
       "      <td>4</td>\n",
       "      <td>Catheterization laboratory events and hospital...</td>\n",
       "    </tr>\n",
       "    <tr>\n",
       "      <th>1</th>\n",
       "      <td>5</td>\n",
       "      <td>Renal abscess in children. Three cases of rena...</td>\n",
       "    </tr>\n",
       "    <tr>\n",
       "      <th>2</th>\n",
       "      <td>2</td>\n",
       "      <td>Hyperplastic polyps seen at sigmoidoscopy are ...</td>\n",
       "    </tr>\n",
       "    <tr>\n",
       "      <th>3</th>\n",
       "      <td>5</td>\n",
       "      <td>Subclavian artery to innominate vein fistula a...</td>\n",
       "    </tr>\n",
       "    <tr>\n",
       "      <th>4</th>\n",
       "      <td>4</td>\n",
       "      <td>Effect of local inhibition of gamma-aminobutyr...</td>\n",
       "    </tr>\n",
       "    <tr>\n",
       "      <th>5</th>\n",
       "      <td>1</td>\n",
       "      <td>Infection during chronic epidural catheterizat...</td>\n",
       "    </tr>\n",
       "    <tr>\n",
       "      <th>6</th>\n",
       "      <td>5</td>\n",
       "      <td>Mediastinal tracheostomy using a pectoralis ma...</td>\n",
       "    </tr>\n",
       "    <tr>\n",
       "      <th>7</th>\n",
       "      <td>5</td>\n",
       "      <td>Tumefactive fibroinflammatory lesion of the ex...</td>\n",
       "    </tr>\n",
       "    <tr>\n",
       "      <th>8</th>\n",
       "      <td>3</td>\n",
       "      <td>Multiple representations contribute to body kn...</td>\n",
       "    </tr>\n",
       "    <tr>\n",
       "      <th>9</th>\n",
       "      <td>5</td>\n",
       "      <td>Increasing asthma prevalence in a rural New Ze...</td>\n",
       "    </tr>\n",
       "  </tbody>\n",
       "</table>\n",
       "</div>"
      ],
      "text/plain": [
       "   label                                               text\n",
       "0      4  Catheterization laboratory events and hospital...\n",
       "1      5  Renal abscess in children. Three cases of rena...\n",
       "2      2  Hyperplastic polyps seen at sigmoidoscopy are ...\n",
       "3      5  Subclavian artery to innominate vein fistula a...\n",
       "4      4  Effect of local inhibition of gamma-aminobutyr...\n",
       "5      1  Infection during chronic epidural catheterizat...\n",
       "6      5  Mediastinal tracheostomy using a pectoralis ma...\n",
       "7      5  Tumefactive fibroinflammatory lesion of the ex...\n",
       "8      3  Multiple representations contribute to body kn...\n",
       "9      5  Increasing asthma prevalence in a rural New Ze..."
      ]
     },
     "execution_count": 82,
     "metadata": {},
     "output_type": "execute_result"
    }
   ],
   "source": [
    "df.head(10)"
   ]
  },
  {
   "cell_type": "code",
   "execution_count": 83,
   "metadata": {},
   "outputs": [
    {
     "data": {
      "text/plain": [
       "label    0\n",
       "text     0\n",
       "dtype: int64"
      ]
     },
     "execution_count": 83,
     "metadata": {},
     "output_type": "execute_result"
    }
   ],
   "source": [
    "# Check missing values\n",
    "df.isna().sum()"
   ]
  },
  {
   "cell_type": "code",
   "execution_count": 84,
   "metadata": {},
   "outputs": [],
   "source": [
    "# Remove digits and punctuation\n",
    "df[\"text\"] = df[\"text\"].map(lambda s: s.strip().lower())\n",
    "df[\"text\"] = df[\"text\"].map(lambda s: s.translate(str.maketrans(\"\", \"\", string.digits)))\n",
    "df[\"text\"] = df[\"text\"].map(\n",
    "    lambda s: s.translate(str.maketrans(\"\", \"\", string.punctuation))\n",
    ")\n",
    "\n",
    "# Text has some duplicates, drop those\n",
    "df = df.drop_duplicates(subset=[\"text\"])"
   ]
  },
  {
   "cell_type": "code",
   "execution_count": 85,
   "metadata": {},
   "outputs": [
    {
     "data": {
      "text/plain": [
       "label\n",
       "5    3509\n",
       "1    2673\n",
       "4    2477\n",
       "3    1469\n",
       "2    1098\n",
       "Name: count, dtype: int64"
      ]
     },
     "execution_count": 85,
     "metadata": {},
     "output_type": "execute_result"
    }
   ],
   "source": [
    "# from nltk.corpus import wordnet as wn\n",
    "\n",
    "# nltk.download(\"wordnet\")\n",
    "# synonyms = wn.synsets(\"word\")\n",
    "# for syn in synonyms:\n",
    "#     for lemma in syn.lemmas():\n",
    "#         print(lemma.name())\n",
    "\n",
    "# TODO: add synonyms, translations, or smth to create mote data\n",
    "df.value_counts(\"label\")"
   ]
  },
  {
   "cell_type": "code",
   "execution_count": 86,
   "metadata": {},
   "outputs": [
    {
     "name": "stdout",
     "output_type": "stream",
     "text": [
      "No. of rows: 11226\n"
     ]
    },
    {
     "data": {
      "text/html": [
       "<div>\n",
       "<style scoped>\n",
       "    .dataframe tbody tr th:only-of-type {\n",
       "        vertical-align: middle;\n",
       "    }\n",
       "\n",
       "    .dataframe tbody tr th {\n",
       "        vertical-align: top;\n",
       "    }\n",
       "\n",
       "    .dataframe thead th {\n",
       "        text-align: right;\n",
       "    }\n",
       "</style>\n",
       "<table border=\"1\" class=\"dataframe\">\n",
       "  <thead>\n",
       "    <tr style=\"text-align: right;\">\n",
       "      <th></th>\n",
       "      <th>label</th>\n",
       "      <th>text</th>\n",
       "    </tr>\n",
       "  </thead>\n",
       "  <tbody>\n",
       "    <tr>\n",
       "      <th>0</th>\n",
       "      <td>4</td>\n",
       "      <td>catheterization laboratory events and hospital...</td>\n",
       "    </tr>\n",
       "    <tr>\n",
       "      <th>1</th>\n",
       "      <td>5</td>\n",
       "      <td>renal abscess in children three cases of renal...</td>\n",
       "    </tr>\n",
       "    <tr>\n",
       "      <th>2</th>\n",
       "      <td>2</td>\n",
       "      <td>hyperplastic polyps seen at sigmoidoscopy are ...</td>\n",
       "    </tr>\n",
       "    <tr>\n",
       "      <th>3</th>\n",
       "      <td>5</td>\n",
       "      <td>subclavian artery to innominate vein fistula a...</td>\n",
       "    </tr>\n",
       "    <tr>\n",
       "      <th>4</th>\n",
       "      <td>4</td>\n",
       "      <td>effect of local inhibition of gammaaminobutyri...</td>\n",
       "    </tr>\n",
       "    <tr>\n",
       "      <th>5</th>\n",
       "      <td>1</td>\n",
       "      <td>infection during chronic epidural catheterizat...</td>\n",
       "    </tr>\n",
       "    <tr>\n",
       "      <th>6</th>\n",
       "      <td>5</td>\n",
       "      <td>mediastinal tracheostomy using a pectoralis ma...</td>\n",
       "    </tr>\n",
       "    <tr>\n",
       "      <th>7</th>\n",
       "      <td>5</td>\n",
       "      <td>tumefactive fibroinflammatory lesion of the ex...</td>\n",
       "    </tr>\n",
       "    <tr>\n",
       "      <th>8</th>\n",
       "      <td>3</td>\n",
       "      <td>multiple representations contribute to body kn...</td>\n",
       "    </tr>\n",
       "    <tr>\n",
       "      <th>9</th>\n",
       "      <td>5</td>\n",
       "      <td>increasing asthma prevalence in a rural new ze...</td>\n",
       "    </tr>\n",
       "  </tbody>\n",
       "</table>\n",
       "</div>"
      ],
      "text/plain": [
       "   label                                               text\n",
       "0      4  catheterization laboratory events and hospital...\n",
       "1      5  renal abscess in children three cases of renal...\n",
       "2      2  hyperplastic polyps seen at sigmoidoscopy are ...\n",
       "3      5  subclavian artery to innominate vein fistula a...\n",
       "4      4  effect of local inhibition of gammaaminobutyri...\n",
       "5      1  infection during chronic epidural catheterizat...\n",
       "6      5  mediastinal tracheostomy using a pectoralis ma...\n",
       "7      5  tumefactive fibroinflammatory lesion of the ex...\n",
       "8      3  multiple representations contribute to body kn...\n",
       "9      5  increasing asthma prevalence in a rural new ze..."
      ]
     },
     "execution_count": 86,
     "metadata": {},
     "output_type": "execute_result"
    }
   ],
   "source": [
    "print(f\"No. of rows: {df.shape[0]}\")\n",
    "df.head(10)"
   ]
  },
  {
   "cell_type": "code",
   "execution_count": 87,
   "metadata": {},
   "outputs": [],
   "source": [
    "# Save cleaned data\n",
    "df.to_csv(\"data/clean.dat\", index=False, sep=\"\\t\")"
   ]
  },
  {
   "cell_type": "markdown",
   "metadata": {},
   "source": [
    "## Models\n"
   ]
  },
  {
   "cell_type": "code",
   "execution_count": 133,
   "metadata": {},
   "outputs": [],
   "source": [
    "from imblearn.combine import SMOTETomek\n",
    "import matplotlib.pyplot as plt\n",
    "import nltk\n",
    "from nltk.corpus import stopwords\n",
    "import numpy as np\n",
    "from seaborn import heatmap\n",
    "from sklearn.metrics import classification_report, confusion_matrix\n",
    "from sklearn.model_selection import train_test_split, GridSearchCV"
   ]
  },
  {
   "cell_type": "code",
   "execution_count": 134,
   "metadata": {},
   "outputs": [
    {
     "name": "stderr",
     "output_type": "stream",
     "text": [
      "[nltk_data] Downloading package stopwords to\n",
      "[nltk_data]     C:\\Users\\Kiyonn\\AppData\\Roaming\\nltk_data...\n",
      "[nltk_data]   Package stopwords is already up-to-date!\n"
     ]
    }
   ],
   "source": [
    "df = pd.read_csv(\"data/clean.dat\", sep=\"\\t\")\n",
    "\n",
    "nltk.download(\"stopwords\")\n",
    "stop_words = stopwords.words(\"english\")\n",
    "\n",
    "\n",
    "def show_eval(model, X_train, X_test, y_train, y_test):\n",
    "    print(\"Train accuracy:\", model.score(X_train, y_train))\n",
    "    print(\"Test accuracy:\", model.score(X_test, y_test))\n",
    "\n",
    "    y_pred = model.predict(X_test)\n",
    "    print(classification_report(y_test, y_pred))\n",
    "    heatmap(confusion_matrix(y_test, y_pred), annot=True, fmt=\"d\")\n",
    "    plt.show()\n",
    "\n",
    "\n",
    "def transform_oversample(encoder, X, y, test_size=0.2):\n",
    "    X_train, X_test, y_train, y_test = train_test_split(X, y, test_size=test_size)\n",
    "\n",
    "    X_train = encoder.fit_transform(X_train)\n",
    "    X_test = encoder.transform(X_test)\n",
    "\n",
    "    smote = SMOTETomek(n_jobs=-1)\n",
    "    X_train, y_train = smote.fit_resample(X_train, y_train)\n",
    "\n",
    "    return X_train, X_test, y_train, y_test"
   ]
  },
  {
   "cell_type": "markdown",
   "metadata": {},
   "source": [
    "### Logistic Regression\n"
   ]
  },
  {
   "cell_type": "code",
   "execution_count": 90,
   "metadata": {},
   "outputs": [
    {
     "name": "stderr",
     "output_type": "stream",
     "text": [
      "c:\\Python312\\Lib\\site-packages\\imblearn\\over_sampling\\_smote\\filter.py:192: FutureWarning: The parameter `n_jobs` has been deprecated in 0.10 and will be removed in 0.12. You can pass an nearest neighbors estimator where `n_jobs` is already set instead.\n",
      "  warnings.warn(\n"
     ]
    }
   ],
   "source": [
    "from sklearn.linear_model import LogisticRegression\n",
    "from sklearn.feature_extraction.text import CountVectorizer\n",
    "\n",
    "\n",
    "# Bag of words\n",
    "cv = CountVectorizer(strip_accents=\"unicode\", stop_words=stop_words)\n",
    "X_train, X_test, y_train, y_test = transform_oversample(cv, df[\"text\"], df[\"label\"])"
   ]
  },
  {
   "cell_type": "code",
   "execution_count": 91,
   "metadata": {},
   "outputs": [
    {
     "name": "stdout",
     "output_type": "stream",
     "text": [
      "Train accuracy: 0.9992060627932154\n",
      "Test accuracy: 0.6357969723953696\n",
      "              precision    recall  f1-score   support\n",
      "\n",
      "           1       0.72      0.75      0.74       531\n",
      "           2       0.64      0.61      0.63       223\n",
      "           3       0.53      0.52      0.53       300\n",
      "           4       0.69      0.75      0.72       454\n",
      "           5       0.57      0.54      0.55       738\n",
      "\n",
      "    accuracy                           0.64      2246\n",
      "   macro avg       0.63      0.63      0.63      2246\n",
      "weighted avg       0.63      0.64      0.63      2246\n",
      "\n"
     ]
    },
    {
     "data": {
      "image/png": "[encoded data removed]",
      "text/plain": [
       "<Figure size 640x480 with 2 Axes>"
      ]
     },
     "metadata": {},
     "output_type": "display_data"
    }
   ],
   "source": [
    "lr = GridSearchCV(\n",
    "    LogisticRegression(max_iter=1000),\n",
    "    param_grid={\"C\": np.logspace(-3, 3, 7)},\n",
    "    n_jobs=-1,\n",
    ")\n",
    "\n",
    "\n",
    "lr.fit(X_train, y_train)\n",
    "\n",
    "\n",
    "show_eval(lr, X_train, X_test, y_train, y_test)"
   ]
  },
  {
   "cell_type": "markdown",
   "metadata": {},
   "source": [
    "### Naive Bayes\n"
   ]
  },
  {
   "cell_type": "code",
   "execution_count": 135,
   "metadata": {},
   "outputs": [
    {
     "name": "stderr",
     "output_type": "stream",
     "text": [
      "c:\\Python312\\Lib\\site-packages\\imblearn\\over_sampling\\_smote\\base.py:345: FutureWarning: The parameter `n_jobs` has been deprecated in 0.10 and will be removed in 0.12. You can pass an nearest neighbors estimator where `n_jobs` is already set instead.\n",
      "  warnings.warn(\n"
     ]
    }
   ],
   "source": [
    "from sklearn.feature_extraction.text import CountVectorizer\n",
    "\n",
    "# Bag of n-grams\n",
    "cv = CountVectorizer(\n",
    "    strip_accents=\"unicode\",\n",
    "    stop_words=stop_words,\n",
    "    ngram_range=(1, 2),\n",
    "    max_features=20000,\n",
    ")\n",
    "X_train, X_test, y_train, y_test = transform_oversample(cv, df[\"text\"], df[\"label\"])"
   ]
  },
  {
   "cell_type": "code",
   "execution_count": 137,
   "metadata": {},
   "outputs": [
    {
     "data": {
      "text/plain": [
       "label\n",
       "2    2817\n",
       "3    2816\n",
       "1    2815\n",
       "4    2809\n",
       "5    2809\n",
       "Name: count, dtype: int64"
      ]
     },
     "execution_count": 137,
     "metadata": {},
     "output_type": "execute_result"
    }
   ],
   "source": [
    "y_train.value_counts()"
   ]
  },
  {
   "cell_type": "code",
   "execution_count": 136,
   "metadata": {},
   "outputs": [
    {
     "name": "stdout",
     "output_type": "stream",
     "text": [
      "Train accuracy: 0.8580264467510309\n",
      "Test accuracy: 0.672306322350846\n",
      "              precision    recall  f1-score   support\n",
      "\n",
      "           1       0.78      0.81      0.79       585\n",
      "           2       0.62      0.65      0.63       213\n",
      "           3       0.53      0.62      0.57       284\n",
      "           4       0.75      0.80      0.77       473\n",
      "           5       0.60      0.50      0.54       691\n",
      "\n",
      "    accuracy                           0.67      2246\n",
      "   macro avg       0.65      0.67      0.66      2246\n",
      "weighted avg       0.67      0.67      0.67      2246\n",
      "\n"
     ]
    },
    {
     "data": {
      "image/png": "[encoded data removed]",
      "text/plain": [
       "<Figure size 640x480 with 2 Axes>"
      ]
     },
     "metadata": {},
     "output_type": "display_data"
    }
   ],
   "source": [
    "from sklearn.naive_bayes import MultinomialNB\n",
    "\n",
    "MNB = GridSearchCV(\n",
    "    MultinomialNB(),\n",
    "    param_grid={\"alpha\": np.linspace(0.1, 1, 10)},\n",
    "    n_jobs=-1,\n",
    ")\n",
    "MNB.fit(X_train, y_train)\n",
    "\n",
    "show_eval(MNB, X_train, X_test, y_train, y_test)"
   ]
  },
  {
   "cell_type": "markdown",
   "metadata": {},
   "source": [
    "### Support Vector Classification\n"
   ]
  },
  {
   "cell_type": "code",
   "execution_count": 94,
   "metadata": {},
   "outputs": [
    {
     "name": "stderr",
     "output_type": "stream",
     "text": [
      "c:\\Python312\\Lib\\site-packages\\imblearn\\over_sampling\\_smote\\filter.py:192: FutureWarning: The parameter `n_jobs` has been deprecated in 0.10 and will be removed in 0.12. You can pass an nearest neighbors estimator where `n_jobs` is already set instead.\n",
      "  warnings.warn(\n"
     ]
    }
   ],
   "source": [
    "from sklearn.feature_extraction.text import TfidfVectorizer\n",
    "\n",
    "# TF-IDF\n",
    "tfv = TfidfVectorizer(\n",
    "    strip_accents=\"unicode\",\n",
    "    stop_words=stop_words,\n",
    "    ngram_range=(1, 3),\n",
    "    sublinear_tf=True,\n",
    "    max_features=10000,\n",
    ")\n",
    "X_train, X_test, y_train, y_test = transform_oversample(tfv, df[\"text\"], df[\"label\"])"
   ]
  },
  {
   "cell_type": "code",
   "execution_count": 95,
   "metadata": {},
   "outputs": [
    {
     "name": "stderr",
     "output_type": "stream",
     "text": [
      "c:\\Python312\\Lib\\site-packages\\sklearn\\svm\\_classes.py:32: FutureWarning: The default value of `dual` will change from `True` to `'auto'` in 1.5. Set the value of `dual` explicitly to suppress the warning.\n",
      "  warnings.warn(\n"
     ]
    },
    {
     "name": "stdout",
     "output_type": "stream",
     "text": [
      "Train accuracy: 0.9829650748396294\n",
      "Test accuracy: 0.6705253784505788\n",
      "              precision    recall  f1-score   support\n",
      "\n",
      "           1       0.76      0.79      0.78       544\n",
      "           2       0.63      0.67      0.65       221\n",
      "           3       0.58      0.54      0.56       280\n",
      "           4       0.73      0.77      0.75       498\n",
      "           5       0.60      0.56      0.58       703\n",
      "\n",
      "    accuracy                           0.67      2246\n",
      "   macro avg       0.66      0.67      0.66      2246\n",
      "weighted avg       0.67      0.67      0.67      2246\n",
      "\n"
     ]
    },
    {
     "data": {
      "image/png": "[encoded data removed]",
      "text/plain": [
       "<Figure size 640x480 with 2 Axes>"
      ]
     },
     "metadata": {},
     "output_type": "display_data"
    }
   ],
   "source": [
    "from sklearn.svm import LinearSVC\n",
    "\n",
    "linearSVC = GridSearchCV(\n",
    "    LinearSVC(),\n",
    "    param_grid={\"C\": np.logspace(-3, 3, 7)},\n",
    "    n_jobs=-1,\n",
    ")\n",
    "linearSVC.fit(X_train, y_train)\n",
    "\n",
    "show_eval(linearSVC, X_train, X_test, y_train, y_test)"
   ]
  },
  {
   "cell_type": "markdown",
   "metadata": {},
   "source": [
    "### RNN\n"
   ]
  },
  {
   "cell_type": "code",
   "execution_count": null,
   "metadata": {},
   "outputs": [],
   "source": []
  },
  {
   "cell_type": "code",
   "execution_count": 96,
   "metadata": {},
   "outputs": [],
   "source": [
    "# Prediction\n",
    "\n",
    "# TODO: verify order\n",
    "class_names = [\n",
    "    \"digestive system diseases\",\n",
    "    \"cardiovascular diseases\",\n",
    "    \"neoplasms\",\n",
    "    \"nervous system diseases\",\n",
    "    \"and general pathological conditions\",\n",
    "]"
   ]
  }
 ],
 "metadata": {
  "kernelspec": {
   "display_name": "Python 3",
   "language": "python",
   "name": "python3"
  },
  "language_info": {
   "codemirror_mode": {
    "name": "ipython",
    "version": 3
   },
   "file_extension": ".py",
   "mimetype": "text/x-python",
   "name": "python",
   "nbconvert_exporter": "python",
   "pygments_lexer": "ipython3",
   "version": "3.12.0"
  }
 },
 "nbformat": 4,
 "nbformat_minor": 2
}
